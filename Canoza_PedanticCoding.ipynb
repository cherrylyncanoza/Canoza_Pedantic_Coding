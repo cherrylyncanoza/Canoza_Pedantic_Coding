{
 "cells": [
  {
   "cell_type": "code",
   "execution_count": null,
   "metadata": {},
   "outputs": [],
   "source": [
    "#Question1\n",
    "\n",
    "order = input(\"What is your order: \")\n",
    "final_order = '';\n",
    "if(order.lower() == 'cheese burger deluxe'):\n",
    "    question = input(\"Add fries and drink? \")\n",
    "    if (question.lower() == 'yes'):\n",
    "        final_order = order.title() + \" with additional Fries and Drinks.\"\n",
    "    else:\n",
    "        final_order = order.title() + \" with Sundae.\"\n",
    "else:\n",
    "    final_order = order.title()\n",
    "print(final_order)"
   ]
  },
  {
   "cell_type": "code",
   "execution_count": null,
   "metadata": {},
   "outputs": [],
   "source": [
    "#Question2\n",
    "\n",
    "def transfer_to_resource(reservoir, pool):\n",
    "    if pool <= 10 and reservoir > 20:\n",
    "        pool = reservoir\n",
    "    return pool\n",
    "\n",
    "reservoir_input = int(input(\"Input reservoir: \"))\n",
    "pool_input = int(input(\"Input pool: \"))\n",
    "\n",
    "final_output = transfer_to_resource(reservoir_input, pool_input)\n",
    "print(final_output)"
   ]
  },
  {
   "cell_type": "code",
   "execution_count": null,
   "metadata": {},
   "outputs": [],
   "source": []
  }
 ],
 "metadata": {
  "kernelspec": {
   "display_name": "Python 3",
   "language": "python",
   "name": "python3"
  },
  "language_info": {
   "codemirror_mode": {
    "name": "ipython",
    "version": 3
   },
   "file_extension": ".py",
   "mimetype": "text/x-python",
   "name": "python",
   "nbconvert_exporter": "python",
   "pygments_lexer": "ipython3",
   "version": "3.8.5"
  }
 },
 "nbformat": 4,
 "nbformat_minor": 4
}
